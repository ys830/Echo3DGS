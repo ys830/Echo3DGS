{
 "cells": [
  {
   "cell_type": "code",
   "execution_count": 1,
   "metadata": {},
   "outputs": [],
   "source": [
    "import numpy as np"
   ]
  },
  {
   "cell_type": "code",
   "execution_count": 13,
   "metadata": {},
   "outputs": [],
   "source": [
    "a = np.load(\"/data/yisi/mywork/Echo3DGS/ini_pcd/fused_point_cloud_array.npy\")"
   ]
  },
  {
   "cell_type": "code",
   "execution_count": 29,
   "metadata": {},
   "outputs": [
    {
     "name": "stdout",
     "output_type": "stream",
     "text": [
      "(2000, 11)\n",
      "85.01412200927734\n",
      "-89.1625747680664\n",
      "[[-35.46522141 -17.33765793 -20.80487442 ...  -1.07563305  -2.3215642\n",
      "   -5.30668211]\n",
      " [ 50.1055336  -43.21894836  40.77910614 ...  -1.29503477  -1.52682102\n",
      "   -7.26102209]\n",
      " [ 41.45869827  34.56874084 -76.25414276 ...  -3.40979171  -3.21594834\n",
      "   -4.44736147]\n",
      " ...\n",
      " [ 12.40031528  37.51266861 -60.12220764 ...  -3.21761131  -3.42983866\n",
      "   -3.85022402]\n",
      " [-58.20011902   1.21400857 -23.45482826 ...  -3.45190001  -3.65286636\n",
      "   -4.02735949]\n",
      " [ 67.00231171 -20.67707825 -14.21461296 ...  -3.18969464  -3.25959158\n",
      "   -4.08195019]]\n"
     ]
    }
   ],
   "source": [
    "print(a.shape)\n",
    "print(a.max())\n",
    "print(a.min())\n",
    "print(a)"
   ]
  },
  {
   "cell_type": "code",
   "execution_count": 23,
   "metadata": {},
   "outputs": [],
   "source": [
    "b = np.load('/data/yisi/mywork/Echo3DGS/ckpts/heart/GS/3d012/reptail_point.npy')"
   ]
  },
  {
   "cell_type": "code",
   "execution_count": 30,
   "metadata": {},
   "outputs": [
    {
     "name": "stdout",
     "output_type": "stream",
     "text": [
      "(2000, 11)\n",
      "80.72126\n",
      "-80.81846\n",
      "[[ 6.1175541e+01 -6.2387238e+01 -4.0311832e+01 ...  1.4402623e+00\n",
      "  -6.7118645e-01  1.1005683e+00]\n",
      " [ 2.6031034e+01  2.5792200e+01 -5.4024574e+01 ...  1.2713281e+00\n",
      "  -1.1051369e+00 -1.3959777e+00]\n",
      " [ 1.0107591e+01 -4.5658360e+00  6.9969330e+01 ... -6.8845294e-02\n",
      "   1.1533139e-01 -1.8445936e+00]\n",
      " ...\n",
      " [ 3.4084560e+01  7.4302216e+01 -4.4699612e+01 ...  1.4762473e+00\n",
      "   5.1890641e-01 -9.5049334e-01]\n",
      " [ 2.7969831e+01  3.1115198e+01 -6.1763887e+00 ...  1.1920656e+00\n",
      "  -3.3796254e-01  8.9335704e-01]\n",
      " [ 5.1064682e+01 -3.7701046e+01  7.6946968e+01 ... -2.1768847e+00\n",
      "  -9.1245651e-01 -5.8510351e-01]]\n"
     ]
    }
   ],
   "source": [
    "print(b.shape)\n",
    "print(b.max())\n",
    "print(b.min())\n",
    "print(b)"
   ]
  },
  {
   "cell_type": "code",
   "execution_count": 20,
   "metadata": {},
   "outputs": [
    {
     "data": {
      "text/plain": [
       "-80.81846"
      ]
     },
     "execution_count": 20,
     "metadata": {},
     "output_type": "execute_result"
    }
   ],
   "source": [
    "b.min()"
   ]
  },
  {
   "cell_type": "code",
   "execution_count": 8,
   "metadata": {},
   "outputs": [],
   "source": [
    "import cv2"
   ]
  },
  {
   "cell_type": "code",
   "execution_count": 11,
   "metadata": {},
   "outputs": [],
   "source": [
    "a = cv2.imread(\"/data/yisi/mywork/Echo3DGS/3d_slice01/test/005/005_process/0000.png\",-1)"
   ]
  },
  {
   "cell_type": "code",
   "execution_count": 12,
   "metadata": {},
   "outputs": [
    {
     "data": {
      "text/plain": [
       "255"
      ]
     },
     "execution_count": 12,
     "metadata": {},
     "output_type": "execute_result"
    }
   ],
   "source": [
    "a.max()"
   ]
  },
  {
   "cell_type": "code",
   "execution_count": null,
   "metadata": {},
   "outputs": [],
   "source": []
  }
 ],
 "metadata": {
  "kernelspec": {
   "display_name": "ngp_pl",
   "language": "python",
   "name": "python3"
  },
  "language_info": {
   "codemirror_mode": {
    "name": "ipython",
    "version": 3
   },
   "file_extension": ".py",
   "mimetype": "text/x-python",
   "name": "python",
   "nbconvert_exporter": "python",
   "pygments_lexer": "ipython3",
   "version": "3.8.16"
  }
 },
 "nbformat": 4,
 "nbformat_minor": 2
}
